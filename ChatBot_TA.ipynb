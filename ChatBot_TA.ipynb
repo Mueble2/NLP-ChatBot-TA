{
  "nbformat": 4,
  "nbformat_minor": 0,
  "metadata": {
    "colab": {
      "provenance": [],
      "gpuType": "T4",
      "authorship_tag": "ABX9TyPi40y+Fi9Zi33kmuyYiJFX",
      "include_colab_link": true
    },
    "kernelspec": {
      "name": "python3",
      "display_name": "Python 3"
    },
    "language_info": {
      "name": "python"
    },
    "accelerator": "GPU"
  },
  "cells": [
    {
      "cell_type": "markdown",
      "metadata": {
        "id": "view-in-github",
        "colab_type": "text"
      },
      "source": [
        "<a href=\"https://colab.research.google.com/github/Mueble2/NLP-ChatBot-TA/blob/main/ChatBot_TA.ipynb\" target=\"_parent\"><img src=\"https://colab.research.google.com/assets/colab-badge.svg\" alt=\"Open In Colab\"/></a>"
      ]
    },
    {
      "cell_type": "markdown",
      "source": [
        "🤖 **Chatbot Académico: Historia del Perú**"
      ],
      "metadata": {
        "id": "Trua87COVh4l"
      }
    },
    {
      "cell_type": "code",
      "source": [
        "!pip install sentence-transformers chromadb langchain langchain-community"
      ],
      "metadata": {
        "id": "bV0I5txRjAnF",
        "collapsed": true
      },
      "execution_count": null,
      "outputs": []
    },
    {
      "cell_type": "code",
      "source": [
        "# 📡 Carga de contenido web\n",
        "import requests\n",
        "from bs4 import BeautifulSoup\n",
        "import re\n",
        "# 🧠 Modelo de embedding (sentence transformers)\n",
        "from sentence_transformers import SentenceTransformer\n",
        "# 🧠 Embeddings y Vector Store\n",
        "from langchain.embeddings import SentenceTransformerEmbeddings\n",
        "from langchain.vectorstores import Chroma\n",
        "from chromadb.config import Settings\n",
        "import chromadb\n",
        "# 📄 Procesamiento de documentos\n",
        "from langchain.text_splitter import RecursiveCharacterTextSplitter\n",
        "from langchain_community.document_loaders import WebBaseLoader\n",
        "# 🔍 Motor de recuperación de información\n",
        "from langchain.chains import RetrievalQA\n",
        "# 🤖 LLM vía Ollama\n",
        "from langchain_community.llms import Ollama"
      ],
      "metadata": {
        "id": "QqsGHrEiWh6H"
      },
      "execution_count": null,
      "outputs": []
    },
    {
      "cell_type": "code",
      "source": [
        "def extraer_texto(url):\n",
        "    try:\n",
        "        resp = requests.get(url, headers={'User-Agent': 'Mozilla/5.0'}, timeout=10)\n",
        "        resp.raise_for_status()  # Lanza excepción si falla (4xx/5xx)\n",
        "    except requests.RequestException as e:\n",
        "        print(f\"❌ Error al acceder a {url}: {e}\")\n",
        "        return \"\"\n",
        "    soup = BeautifulSoup(resp.text, \"html.parser\")\n",
        "    # Elimina etiquetas no deseadas\n",
        "    for tag in soup([\"script\", \"style\", \"sup\", \"img\", \"figure\", \"table\", \"noscript\"]):\n",
        "        tag.decompose()\n",
        "    # Extrae texto limpio\n",
        "    texto = soup.get_text(separator=' ')\n",
        "    texto = re.sub(r'\\s+', ' ', texto)\n",
        "    return texto.strip()\n",
        "\n",
        "urls = [\n",
        "    \"https://es.wikipedia.org/wiki/Batalla_de_Ayacucho\",\n",
        "    \"https://en.wikipedia.org/wiki/Battle_of_Ayacucho\",\n",
        "    \"https://www.encyclopedia.com/humanities/encyclopedias-almanacs-transcripts-and-maps/ayacucho-battle\",\n",
        "    \"https://www.britannica.com/topic/Battle-of-Ayacucho\",\n",
        "    \"https://www.britannica.com/place/Ayacucho-Peru\",\n",
        "    \"https://www.tierrasvivas.com/en/ayacucho-battle\",\n",
        "    \"https://es.wikipedia.org/wiki/Capitulaci%C3%B3n_de_Ayacucho\",\n",
        "    \"https://es.wikipedia.org/wiki/Santuario_hist%C3%B3rico_de_la_Pampa_de_Ayacucho\",\n",
        "    \"https://elpais.com/america/2024-12-09/ayacucho-diciembre-9-1824-el-final-de-un-imperio-y-el-inicio-de-america-latina.html\"\n",
        "]\n",
        "\n",
        "documentos = [extraer_texto(url) for url in urls]\n",
        "print(f\"✅ Se extrajeron {sum(1 for d in documentos if d)} documentos válidos.\")"
      ],
      "metadata": {
        "colab": {
          "base_uri": "https://localhost:8080/"
        },
        "id": "KJ0Qm0I3Xf_e",
        "outputId": "f0d7cdab-34eb-4fb0-827b-ef8ecb05a9db"
      },
      "execution_count": 3,
      "outputs": [
        {
          "output_type": "stream",
          "name": "stdout",
          "text": [
            "✅ Se extrajeron 9 documentos válidos.\n"
          ]
        }
      ]
    },
    {
      "cell_type": "code",
      "source": [
        "# 1. Embeddings\n",
        "embedding_model = SentenceTransformer(\"all-MiniLM-L6-v2\")\n",
        "\n",
        "# 2. Chunking por oraciones\n",
        "def dividir_en_chunks(texto, max_len=400):\n",
        "    oraciones = re.split(r'(?<=[.?!])\\s+', texto)\n",
        "    chunks, actual = [], \"\"\n",
        "    for oracion in oraciones:\n",
        "        if len(actual) + len(oracion) <= max_len:\n",
        "            actual += \" \" + oracion\n",
        "        else:\n",
        "            chunks.append(actual.strip())\n",
        "            actual = oracion\n",
        "    if actual:\n",
        "        chunks.append(actual.strip())\n",
        "    return chunks\n",
        "\n",
        "# 3. Procesar todos los documentos\n",
        "chunks = []\n",
        "for doc in documentos:\n",
        "    if doc:  # evita errores por documentos vacíos\n",
        "        chunks.extend(dividir_en_chunks(doc))\n",
        "\n",
        "# 4. Generar embeddings\n",
        "vectores = embedding_model.encode(chunks)\n",
        "\n",
        "# 5. Crear cliente Chroma\n",
        "chroma_client = chromadb.Client(Settings(anonymized_telemetry=False))\n",
        "\n",
        "# Crear colección nueva\n",
        "collection = chroma_client.get_or_create_collection(\"batalla_ayacucho_rag\")\n",
        "\n",
        "# 6. Cargar datos\n",
        "for i, chunk in enumerate(chunks):\n",
        "    collection.add(documents=[chunk], ids=[f\"chunk_{i}\"], embeddings=[vectores[i].tolist()])\n",
        "\n",
        "print(f\"✅ {len(chunks)} chunks embebidos y cargados en Chroma.\")"
      ],
      "metadata": {
        "colab": {
          "base_uri": "https://localhost:8080/"
        },
        "id": "57WAUnwDXotH",
        "outputId": "5e30ec05-7dcb-4b4e-a4d8-3c199bfef3ff"
      },
      "execution_count": 5,
      "outputs": [
        {
          "output_type": "stream",
          "name": "stdout",
          "text": [
            "✅ 488 chunks embebidos y cargados en Chroma.\n"
          ]
        }
      ]
    },
    {
      "cell_type": "code",
      "source": [
        "#Descarga de OLlama\n",
        "!curl -fsSL https://ollama.com/install.sh | sh  # Solo una vez"
      ],
      "metadata": {
        "collapsed": true,
        "id": "6gw5CHQbXyy9"
      },
      "execution_count": null,
      "outputs": []
    },
    {
      "cell_type": "code",
      "source": [
        "#Lanzar servidor de OLlama en local\n",
        "!ollama serve > /dev/null 2>&1 &\n",
        "!sleep 10"
      ],
      "metadata": {
        "id": "dkrNWLHIX2zI"
      },
      "execution_count": 7,
      "outputs": []
    },
    {
      "cell_type": "code",
      "source": [
        "#Descarga del modelo y librerías\n",
        "!ollama pull phi3.5:latest\n",
        "!pip install -U langchain-ollama"
      ],
      "metadata": {
        "collapsed": true,
        "id": "rjWXGNP3X4aH"
      },
      "execution_count": null,
      "outputs": []
    },
    {
      "cell_type": "code",
      "source": [
        "# Carga del modelo\n",
        "from langchain_ollama import OllamaLLM\n",
        "llm = OllamaLLM(\n",
        "    model=\"phi3.5:latest\",\n",
        "    temperature=0.3,\n",
        "    num_gpu=40,\n",
        "    system=\"\"\n",
        ")"
      ],
      "metadata": {
        "id": "5KQlRQwAX6N7"
      },
      "execution_count": 10,
      "outputs": []
    },
    {
      "cell_type": "code",
      "source": [
        "def responder_pregunta(pregunta: str, k=3, max_chars=1500) -> str:\n",
        "    # Embedding de la pregunta\n",
        "    query_emb = embedding_model.encode(pregunta).tolist()\n",
        "\n",
        "    # Recuperar documentos similares\n",
        "    resultados = collection.query(\n",
        "        query_embeddings=[query_emb],\n",
        "        n_results=k\n",
        "    )\n",
        "\n",
        "    # Construcción de contexto\n",
        "    contextos = resultados[\"documents\"][0]\n",
        "    contexto = \"\\n\\n\".join(contextos)[:max_chars]\n",
        "\n",
        "    # Prompt para Ollama + phi3.5\n",
        "    prompt = f\"\"\"Responde en español a la siguiente pregunta sobre historia peruana.\n",
        "\n",
        "Contexto histórico:\n",
        "{contexto}\n",
        "\n",
        "Pregunta: {pregunta}\n",
        "Respuesta:\"\"\"\n",
        "\n",
        "    # Llamada al modelo local\n",
        "    return llm.invoke(prompt).strip()\n"
      ],
      "metadata": {
        "id": "uv0sKiE3X8aY"
      },
      "execution_count": 15,
      "outputs": []
    },
    {
      "cell_type": "code",
      "source": [
        "pregunta = \"¿Qué consecuencias tuvo la Batalla de Ayacucho?\"\n",
        "respuesta = responder_pregunta(pregunta)\n",
        "\n",
        "print(\"🧠 Pregunta:\", pregunta)\n",
        "print(\"📘 Respuesta:\", respuesta)"
      ],
      "metadata": {
        "colab": {
          "base_uri": "https://localhost:8080/"
        },
        "id": "veJ19BNeYFWl",
        "outputId": "a257fdf8-880c-4142-8c2e-f0aca39effd7"
      },
      "execution_count": 16,
      "outputs": [
        {
          "output_type": "stream",
          "name": "stdout",
          "text": [
            "🧠 Pregunta: ¿Qué consecuencias tuvo la Batalla de Ayacucho?\n",
            "📘 Respuesta: La Batalla de Ayacucho, considerada un combate civil fundamental en la historia peruana, tuvo varias importantes consecuencias. Primero, marcó el fin efectivo del dominio español en Sudamérica y consolidó la independencia de los países que formaban parte del Virreinato del Perú: Perú, Bolivia, Chile y Colombia (entonces conocida como Nueva Granada). La victoria peruana fue decisiva para liberar a estos territorios de la dominación colonial española.\n",
            "\n",
            "Segundo, esta batalla contribuyó significativamente al proceso identitario en los países involucrados; se convirtió en un símbolo del triunfo sobre las fuerzas extranjeras y el fin del dominio español, lo que fortaleció la conciencia nacional.\n",
            "\n",
            "Tercero, Ayacucho estableció a Perú como una potencia regional importante tras su independencia; se convirtió en un centro de poder político e influyó notablemente sobre las relaciones internacionales sudamericanas durante el siglo XIX y principios del XX. Además, la batalla tuvo implicaciones para los derechos indígenas dentro del nuevo orden republicano peruano: aunque estos grupos formaron parte crucial del ejército independentista, su papel en la sociedad post-independencia fue aún limitado debido al prejuicio racial y social persistente.\n",
            "\n",
            "Finalmente, el historiador Juan Carlos Losada considera que los términos de capitulación fueron acordados antes de la batalla; esto planteó cuestionamientos sobre las motivaciones reales detrás del conflicto y su resultado final. A pesar de esta perspectiva controvertida, es indiscutable el impacto transformador de Ayacucho en la historia política e identitaria sudamericana.\n",
            "\n",
            "En resumen, la Batalla de Ayacucho tuvo consecuencias trascendentales para Perú y las naciones vecinas al marcar su independencia del dominio español, influir sobre sus relaciones internacionales regionales post-independencia e impactar en el desarrollo identitario nacional. A pesar de la controversia acerca de los términos previamente pactados antes de la batalla, es un evento histórico significativo que define una nueva era para América Latina y su lucha por independencia del colonialismo europeo.\n"
          ]
        }
      ]
    }
  ]
}