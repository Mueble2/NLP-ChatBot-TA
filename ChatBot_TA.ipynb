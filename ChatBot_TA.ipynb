{
  "nbformat": 4,
  "nbformat_minor": 0,
  "metadata": {
    "colab": {
      "provenance": [],
      "authorship_tag": "ABX9TyOfzN8EmQN6RmfWhiS/vX0u",
      "include_colab_link": true
    },
    "kernelspec": {
      "name": "python3",
      "display_name": "Python 3"
    },
    "language_info": {
      "name": "python"
    }
  },
  "cells": [
    {
      "cell_type": "markdown",
      "metadata": {
        "id": "view-in-github",
        "colab_type": "text"
      },
      "source": [
        "<a href=\"https://colab.research.google.com/github/Mueble2/NLP-ChatBot-TA/blob/main/ChatBot_TA.ipynb\" target=\"_parent\"><img src=\"https://colab.research.google.com/assets/colab-badge.svg\" alt=\"Open In Colab\"/></a>"
      ]
    },
    {
      "cell_type": "markdown",
      "source": [
        "🤖 **Chatbot Académico: Historia del Perú**"
      ],
      "metadata": {
        "id": "Trua87COVh4l"
      }
    },
    {
      "cell_type": "code",
      "source": [
        "Hola"
      ],
      "metadata": {
        "id": "bV0I5txRjAnF"
      },
      "execution_count": null,
      "outputs": []
    },
    {
      "cell_type": "code",
      "source": [
        "pip install langchain langchain-community chromadb huggingface_hub sentence-transformers"
      ],
      "metadata": {
        "id": "ES7FvYC6UJqf"
      },
      "execution_count": null,
      "outputs": []
    },
    {
      "cell_type": "code",
      "execution_count": null,
      "metadata": {
        "id": "6BWUB6GwSsae",
        "colab": {
          "base_uri": "https://localhost:8080/"
        },
        "outputId": "3ef46e08-8ffa-4558-85fb-0445ac3aa4a3"
      },
      "outputs": [
        {
          "output_type": "stream",
          "name": "stdout",
          "text": [
            "Descargando documentos de Wikipedia...\n",
            "Se cargaron 30 documentos.\n",
            "Se dividieron en 319 chunks.\n",
            "Vectorstore creado.\n"
          ]
        }
      ],
      "source": [
        "from langchain.document_loaders import WikipediaLoader\n",
        "from langchain.text_splitter import RecursiveCharacterTextSplitter\n",
        "from langchain.embeddings import HuggingFaceEmbeddings\n",
        "from langchain.vectorstores import Chroma\n",
        "from langchain.llms import HuggingFaceHub\n",
        "from langchain.chains import RetrievalQA\n",
        "\n",
        "# Lista de temas de Historia del Perú\n",
        "temas = [\n",
        "    \"Historia del Perú\",\n",
        "    \"Imperio Inca\",\n",
        "    \"Virreinato del Perú\",\n",
        "    \"Independencia del Perú\",\n",
        "    \"Batalla de Ayacucho\",\n",
        "    \"Guerra del Pacífico\",\n",
        "    \"Túpac Amaru II\",\n",
        "    \"Cultura Moche\",\n",
        "    \"Cultura Nazca\",\n",
        "    \"Cultura Paracas\",\n",
        "    \"Cultura Chavín\",\n",
        "    \"Revolución de Túpac Amaru\",\n",
        "    \"Guerra con Chile\",\n",
        "    \"Batalla de Junín\",\n",
        "    \"Confederación Perú-Boliviana\"\n",
        "]\n",
        "\n",
        "documents = []\n",
        "print(\"Descargando documentos de Wikipedia...\")\n",
        "for tema in temas:\n",
        "    loader = WikipediaLoader(query=tema, load_max_docs=2)\n",
        "    docs = loader.load()\n",
        "    documents.extend(docs)\n",
        "print(f\"Se cargaron {len(documents)} documentos.\")\n",
        "\n",
        "# 2️⃣ Dividir en chunks\n",
        "splitter = RecursiveCharacterTextSplitter(chunk_size=500, chunk_overlap=50)\n",
        "docs_chunked = splitter.split_documents(documents)\n",
        "print(f\"Se dividieron en {len(docs_chunked)} chunks.\")\n",
        "\n",
        "# 3️⃣ Crear embeddings con Sentence Transformers\n",
        "embeddings = HuggingFaceEmbeddings(model_name=\"sentence-transformers/all-MiniLM-L6-v2\")\n",
        "\n",
        "# 4️⃣ Crear VectorStore\n",
        "vectorstore = Chroma.from_documents(docs_chunked, embedding=embeddings)\n",
        "print(\"Vectorstore creado.\")\n"
      ]
    }
  ]
}